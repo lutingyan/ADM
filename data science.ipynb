{
  "nbformat": 4,
  "nbformat_minor": 0,
  "metadata": {
    "colab": {
      "provenance": []
    },
    "kernelspec": {
      "name": "python3",
      "display_name": "Python 3"
    }
  },
  "cells": [
    {
      "cell_type": "markdown",
      "metadata": {
        "id": "Ysi7m4vvxpxk"
      },
      "source": [
        "In this assignment, you will experiment with the NYC Cab dataset from 2016. This dataset provides information (e.g., pickup/dropoff time, # of passengers, trip distance, fare) about cab trips done in New York City during 2016. You can learn more about the dataset clicking [here!](https://www1.nyc.gov/site/tlc/about/tlc-trip-record-data.page)\n",
        "\n",
        "You will load this dataset into pandas, sqlite, and duckdb. You will compare the performance of multiple data-science like queries, including performing a fare estimation (i.e., predicting how much a ride will cost depending on distance) using machine learning.\n",
        "\n",
        "In the first section you will implement the loader in duckdb **[5 points].**\n",
        "\n",
        "The second section has two data-science like queries, the implementation in pandas is already given, and you should use it as a logical/correctness reference to write the queries for sqlite and duckdb, remember to compare the performance of the three different systems **[10 + 15 = 25 points]**.\n",
        "\n",
        "Finally, in the third section you will implement a simple machine learning algorithm in duckdb to predict fare costs. A full implementation of pandas is given and a partial of sqlite. Again, use them as a logical/correctness reference and compare the performance of the three different systems. **[40 points]**\n",
        "\n",
        "Remember to submit your notebook with the answers to all sections as well as a PDF document (max two papes) listing all experienced execution times and reasoning about the performance difference in these systems."
      ]
    },
    {
      "cell_type": "markdown",
      "metadata": {
        "id": "x4UIW8GUQaqt"
      },
      "source": [
        "# **SETUP**"
      ]
    },
    {
      "cell_type": "markdown",
      "metadata": {
        "id": "XXvRwAVPGtiX"
      },
      "source": [
        "First we need to install duckdb."
      ]
    },
    {
      "cell_type": "code",
      "metadata": {
        "id": "IFC0Acb9Gu8W",
        "colab": {
          "base_uri": "https://localhost:8080/"
        },
        "outputId": "7b2cc3bc-13f6-4654-f276-43495176c467"
      },
      "source": [
        "!pip install duckdb --upgrade"
      ],
      "execution_count": 1,
      "outputs": [
        {
          "output_type": "stream",
          "name": "stdout",
          "text": [
            "Requirement already satisfied: duckdb in /usr/local/lib/python3.10/dist-packages (1.1.1)\n"
          ]
        }
      ]
    },
    {
      "cell_type": "markdown",
      "metadata": {
        "id": "XDQF0N7HJIQ_"
      },
      "source": [
        "Now we download the NYC Cab dataset as Parquet file."
      ]
    },
    {
      "cell_type": "code",
      "metadata": {
        "id": "9RXn51F_JMpn",
        "colab": {
          "base_uri": "https://localhost:8080/"
        },
        "outputId": "9388c842-3fe1-45f5-b486-808af1342d86"
      },
      "source": [
        "!wget \"https://d37ci6vzurychx.cloudfront.net/trip-data/yellow_tripdata_2016-01.parquet\""
      ],
      "execution_count": 2,
      "outputs": [
        {
          "output_type": "stream",
          "name": "stdout",
          "text": [
            "--2024-10-07 18:34:46--  https://d37ci6vzurychx.cloudfront.net/trip-data/yellow_tripdata_2016-01.parquet\n",
            "Resolving d37ci6vzurychx.cloudfront.net (d37ci6vzurychx.cloudfront.net)... 54.230.209.140, 54.230.209.126, 54.230.209.200, ...\n",
            "Connecting to d37ci6vzurychx.cloudfront.net (d37ci6vzurychx.cloudfront.net)|54.230.209.140|:443... connected.\n",
            "HTTP request sent, awaiting response... 200 OK\n",
            "Length: 151251087 (144M) [application/x-www-form-urlencoded]\n",
            "Saving to: ‘yellow_tripdata_2016-01.parquet’\n",
            "\n",
            "yellow_tripdata_201 100%[===================>] 144.24M  95.4MB/s    in 1.5s    \n",
            "\n",
            "2024-10-07 18:34:47 (95.4 MB/s) - ‘yellow_tripdata_2016-01.parquet’ saved [151251087/151251087]\n",
            "\n"
          ]
        }
      ]
    },
    {
      "cell_type": "markdown",
      "metadata": {
        "id": "ryMJZSckLmqG"
      },
      "source": [
        "# **Loading The Data** [5pts]"
      ]
    },
    {
      "cell_type": "markdown",
      "metadata": {
        "id": "EJSvVxkOL6af"
      },
      "source": [
        "In this section your goal is to write code to load the data in duckdb.\n",
        "\n",
        "First, run the code to load the data into Pandas and SQLite as provided:\n"
      ]
    },
    {
      "cell_type": "code",
      "metadata": {
        "id": "nBPmYEMLNQ63",
        "colab": {
          "base_uri": "https://localhost:8080/"
        },
        "outputId": "1b330854-3c6e-4bf1-9ac6-475eb8fcd962"
      },
      "source": [
        "import pandas\n",
        "import sqlite3\n",
        "\n",
        "\n",
        "print('\\nPandas:')\n",
        "\n",
        "# Creates Pandas Dataframe from Parquet\n",
        "yellow_tripdata_pandas = pandas.read_parquet('yellow_tripdata_2016-01.parquet')\n",
        "\n",
        "print(len(yellow_tripdata_pandas))\n",
        "print(yellow_tripdata_pandas.sample(n=1))\n",
        "\n",
        "\n",
        "print('\\nSQLite:')\n",
        "\n",
        "# Generates SQLite database and load data from Pandas Dataframe into table\n",
        "db_sqlite = sqlite3.connect('yellow_tripdate_sqlite.db')\n",
        "yellow_tripdata_pandas.to_sql('yellow_tripdata_2016_01', db_sqlite, index=False)\n",
        "\n",
        "sqlite_cursor = db_sqlite.cursor() # Creates a Cursor, that allows us to issue SQL Stataments\n",
        "print(sqlite_cursor.execute(\"SELECT count(*) FROM yellow_tripdata_2016_01\").fetchall())\n",
        "print(sqlite_cursor.execute(\"SELECT * FROM yellow_tripdata_2016_01 LIMIT 1\").fetchall())"
      ],
      "execution_count": 3,
      "outputs": [
        {
          "output_type": "stream",
          "name": "stdout",
          "text": [
            "\n",
            "Pandas:\n",
            "10905067\n",
            "         VendorID tpep_pickup_datetime tpep_dropoff_datetime  passenger_count  \\\n",
            "9892542         1  2016-01-29 14:40:28   2016-01-29 14:46:39                1   \n",
            "\n",
            "         trip_distance  RatecodeID store_and_fwd_flag  PULocationID  \\\n",
            "9892542            0.4           1                  N           246   \n",
            "\n",
            "         DOLocationID  payment_type  fare_amount  extra  mta_tax  tip_amount  \\\n",
            "9892542           246             1          5.5    0.0      0.5        1.25   \n",
            "\n",
            "         tolls_amount  improvement_surcharge  total_amount  \\\n",
            "9892542           0.0                    0.3          7.55   \n",
            "\n",
            "        congestion_surcharge airport_fee  \n",
            "9892542                 None        None  \n",
            "\n",
            "SQLite:\n",
            "[(10905067,)]\n",
            "[(1, '2016-01-01 00:12:22', '2016-01-01 00:29:14', 1, 3.2, 1, 'N', 48, 262, 1, 14.0, 0.5, 0.5, 3.06, 0.0, 0.3, 18.36, None, None)]\n"
          ]
        }
      ]
    },
    {
      "cell_type": "markdown",
      "metadata": {
        "id": "YKAtnEB2PuCp"
      },
      "source": [
        "How do we load data in DuckDB? https://duckdb.org/docs/data/overview https://duckdb.org/docs/data/parquet\n",
        "\n"
      ]
    },
    {
      "cell_type": "code",
      "metadata": {
        "id": "ejriXVhQP1X2",
        "colab": {
          "base_uri": "https://localhost:8080/"
        },
        "outputId": "04914bc9-09b3-4852-debc-2d92d1983a1d"
      },
      "source": [
        "import duckdb\n",
        "import time\n",
        "\n",
        "\n",
        "print('\\nDuckDB:')\n",
        "\n",
        "db = duckdb.connect('yellow_tripdata_duck.db')\n",
        "duck_cursor = db.cursor()\n",
        "\n",
        "# Replace '...' below with your DuckDB SQL query !\n",
        "sql_load = \"\"\"\n",
        "CREATE TABLE IF NOT EXISTS yellow_tripdata_2016_01 AS SELECT * FROM parquet_scan('yellow_tripdata_2016-01.parquet')\n",
        "\"\"\"\n",
        "# Replace '...' above with your DuckDB SQL query !\n",
        "\n",
        "duck_cursor.execute(sql_load)\n",
        "\n",
        "print(duck_cursor.execute(\"SELECT count(*) FROM yellow_tripdata_2016_01\").fetchall())\n",
        "print(duck_cursor.execute(\"SELECT * FROM yellow_tripdata_2016_01 LIMIT 1\").fetchall())"
      ],
      "execution_count": 4,
      "outputs": [
        {
          "output_type": "stream",
          "name": "stdout",
          "text": [
            "\n",
            "DuckDB:\n",
            "[(10905067,)]\n",
            "[(1, datetime.datetime(2016, 1, 1, 0, 12, 22), datetime.datetime(2016, 1, 1, 0, 29, 14), 1, 3.2, 1, 'N', 48, 262, 1, 14.0, 0.5, 0.5, 3.06, 0.0, 0.3, 18.36, None, None)]\n"
          ]
        }
      ]
    },
    {
      "cell_type": "markdown",
      "metadata": {
        "id": "vyDSVNG1TmPi"
      },
      "source": [
        "# **Queries** [25 pts]"
      ]
    },
    {
      "cell_type": "markdown",
      "metadata": {
        "id": "W4wqtjzlT30T"
      },
      "source": [
        "**Query Q1 [10 pts]**: Count distinct values for each column.\n",
        "\n",
        "**TIP:** We provide you with the pandas implementation, be sure to use it to check for correctness!\n",
        "\n",
        "In the first query we want to compare the performance of a simple hash-function in our Database Management Systems (DBMSs). To do so, we implement and run a query that counts the distinct values for each column.\n",
        "In general, most systems use hash-based algorithms to find the distinct values in a large set of values (e.g., a database column).\n",
        "Obs: Sort-based algorithm are an alternative but usually slower.\n"
      ]
    },
    {
      "cell_type": "code",
      "metadata": {
        "id": "sy7O9XS0T9kJ",
        "colab": {
          "base_uri": "https://localhost:8080/"
        },
        "outputId": "de266594-a3d4-4777-d6cf-45bf6adf5dcd"
      },
      "source": [
        "import time\n",
        "\n",
        "\n",
        "# SQL:\n",
        "# Replace '...' below with your SQL query (The same syntax works for both SQLite and DuckDB) !\n",
        "sql_01 = \"\"\"\n",
        "SELECT\n",
        "    COUNT(DISTINCT VendorID),\n",
        "    COUNT(DISTINCT tpep_pickup_datetime),\n",
        "    COUNT(DISTINCT tpep_dropoff_datetime),\n",
        "    COUNT(DISTINCT passenger_count),\n",
        "    COUNT(DISTINCT trip_distance),\n",
        "    COUNT(DISTINCT RatecodeID),\n",
        "    COUNT(DISTINCT store_and_fwd_flag),\n",
        "    COUNT(DISTINCT PULocationID),\n",
        "    COUNT(DISTINCT DOLocationID),\n",
        "    COUNT(DISTINCT payment_type),\n",
        "    COUNT(DISTINCT fare_amount),\n",
        "    COUNT(DISTINCT extra),\n",
        "    COUNT(DISTINCT mta_tax),\n",
        "    COUNT(DISTINCT tip_amount),\n",
        "    COUNT(DISTINCT tolls_amount),\n",
        "    COUNT(DISTINCT improvement_surcharge),\n",
        "    COUNT(DISTINCT total_amount),\n",
        "    COUNT(DISTINCT congestion_surcharge),\n",
        "    COUNT(DISTINCT airport_fee)\n",
        "FROM yellow_tripdata_2016_01;\n",
        "\"\"\"\n",
        "# Replace '...' above with your SQL query (The same syntax works for both SQLite and DuckDB) !\n",
        "\n",
        "\n",
        "# Pandas:\n",
        "def query_01_pandas():\n",
        "  print('\\nPandas:')\n",
        "  print(\n",
        "    yellow_tripdata_pandas['VendorID'].nunique(),\n",
        "    yellow_tripdata_pandas['tpep_pickup_datetime'].nunique(),\n",
        "    yellow_tripdata_pandas['tpep_dropoff_datetime'].nunique(),\n",
        "    yellow_tripdata_pandas['passenger_count'].nunique(),\n",
        "    yellow_tripdata_pandas['trip_distance'].nunique(),\n",
        "    yellow_tripdata_pandas['RatecodeID'].nunique(),\n",
        "    yellow_tripdata_pandas['store_and_fwd_flag'].nunique(),\n",
        "    yellow_tripdata_pandas['PULocationID'].nunique(),\n",
        "    yellow_tripdata_pandas['DOLocationID'].nunique(),\n",
        "    yellow_tripdata_pandas['payment_type'].nunique(),\n",
        "    yellow_tripdata_pandas['fare_amount'].nunique(),\n",
        "    yellow_tripdata_pandas['extra'].nunique(),\n",
        "    yellow_tripdata_pandas['mta_tax'].nunique(),\n",
        "    yellow_tripdata_pandas['tip_amount'].nunique(),\n",
        "    yellow_tripdata_pandas['tolls_amount'].nunique(),\n",
        "    yellow_tripdata_pandas['improvement_surcharge'].nunique(),\n",
        "    yellow_tripdata_pandas['total_amount'].nunique(),\n",
        "    yellow_tripdata_pandas['congestion_surcharge'].nunique(),\n",
        "    yellow_tripdata_pandas['airport_fee'].nunique()\n",
        "  )\n",
        "\n",
        "\n",
        "# SQLite:\n",
        "def query_01_sqlite():\n",
        "    print('\\nSQLite:')\n",
        "    sqlite_cursor.execute(sql_01)\n",
        "    result = sqlite_cursor.fetchone()\n",
        "    print(result)\n",
        "\n",
        "\n",
        "# DuckDB:\n",
        "def query_01_duckdb():\n",
        "    print('\\nDuckDB:')\n",
        "    duck_cursor.execute(sql_01)\n",
        "    result = duck_cursor.fetchall()\n",
        "    print(result)\n",
        "\n",
        "\n",
        "print('Results:')\n",
        "\n",
        "start = time.time()\n",
        "query_01_pandas()\n",
        "time_pandas = time.time() - start\n",
        "\n",
        "start = time.time()\n",
        "query_01_sqlite()\n",
        "time_sqlite = time.time() - start\n",
        "\n",
        "start = time.time()\n",
        "query_01_duckdb()\n",
        "time_duckdb = time.time() - start\n",
        "\n",
        "print('\\nTimes:')\n",
        "print('Pandas: ' + str(time_pandas))\n",
        "print('SQLite: ' + str(time_sqlite))\n",
        "print('DuckDB: ' + str(time_duckdb))"
      ],
      "execution_count": 5,
      "outputs": [
        {
          "output_type": "stream",
          "name": "stdout",
          "text": [
            "Results:\n",
            "\n",
            "Pandas:\n",
            "2 2368538 2372446 10 4512 7 2 261 262 5 1862 35 15 3550 939 3 11158 0 0\n",
            "\n",
            "SQLite:\n",
            "(2, 2368538, 2372446, 10, 4512, 7, 2, 261, 262, 5, 1862, 35, 15, 3550, 939, 3, 11158, 0, 0)\n",
            "\n",
            "DuckDB:\n",
            "[(2, 2368538, 2372446, 10, 4512, 7, 2, 261, 262, 5, 1862, 35, 15, 3550, 939, 3, 11158, 0, 0)]\n",
            "\n",
            "Times:\n",
            "Pandas: 4.271384954452515\n",
            "SQLite: 62.666603326797485\n",
            "DuckDB: 5.873955488204956\n"
          ]
        }
      ]
    },
    {
      "cell_type": "markdown",
      "metadata": {
        "id": "AnE6A2olT954"
      },
      "source": [
        "\n",
        "\n",
        "In our second query, we want to compare the performance of the aggregation/grouping functions.\n",
        "**Query Q2 [15 pts]**: What's the avg/max/min frequency of events grouped by day and hour? (Recall that each record in the data set represents one event.)\n",
        "\n",
        "**TIP_1** : Start by writing a subquery that groups the data by Day/Hour and counts all events.\n",
        "\n",
        "For duckdb:\n",
        "EXTRACT(DOY FROM tpep_pickup_datetime), EXTRACT(HOUR FROM tpep_pickup_datetime)\n",
        "\n",
        "For Sqlite:\n",
        "strftime('%j', tpep_pickup_datetime), strftime('%H', tpep_pickup_datetime) for\n",
        "\n",
        "**TIP_2**: After writing the subquery, get the avg, min and max values of it\n",
        "\n",
        "For your convenience, we already provide the Pandas implementation, remember to use it for correctness/logic purposes."
      ]
    },
    {
      "cell_type": "code",
      "metadata": {
        "id": "oypnNM8qZel2",
        "colab": {
          "base_uri": "https://localhost:8080/"
        },
        "outputId": "825ed727-6178-4a6f-ba59-f0370e33d376"
      },
      "source": [
        "# SQLite SQL:\n",
        "# Replace '...' below with your SQLite SQL query !\n",
        "sql_02_sqlite = \"\"\"\n",
        "WITH event_counts AS (\n",
        "    SELECT\n",
        "        strftime('%d', tpep_pickup_datetime) AS day,\n",
        "        strftime('%H', tpep_pickup_datetime) AS hour,\n",
        "        COUNT(VendorID) AS event_count\n",
        "    FROM yellow_tripdata_2016_01\n",
        "    GROUP BY day, hour\n",
        ")\n",
        "SELECT\n",
        "    MIN(event_count) AS min_event_count,\n",
        "    AVG(event_count) AS avg_event_count,\n",
        "    MAX(event_count) AS max_event_count\n",
        "FROM event_counts;\n",
        "\"\"\"\n",
        "# Replace '...' above with your SQLite SQL query !\n",
        "\n",
        "\n",
        "# DuckDB SQL:\n",
        "# Replace '...' below with your DuckDB SQL query !\n",
        "sql_02_duckdb = \"\"\"\n",
        "WITH event_counts AS (\n",
        "    SELECT\n",
        "        EXTRACT(DAY FROM tpep_pickup_datetime) AS day,\n",
        "        EXTRACT(HOUR FROM tpep_pickup_datetime) AS hour,\n",
        "        COUNT(VendorID) AS event_count\n",
        "    FROM yellow_tripdata_2016_01\n",
        "    GROUP BY day, hour\n",
        ")\n",
        "SELECT\n",
        "    MIN(event_count) AS min_event_count,\n",
        "    AVG(event_count) AS avg_event_count,\n",
        "    MAX(event_count) AS max_event_count\n",
        "FROM event_counts;\n",
        "\"\"\"\n",
        "# Replace '...' above with your DuckDB SQL query !\n",
        "\n",
        "\n",
        "# Pandas:\n",
        "def query_02_pandas():\n",
        "    print('\\nPandas:')\n",
        "    df = yellow_tripdata_pandas[[\"VendorID\", \"tpep_pickup_datetime\"]]\n",
        "    df['day'] = pandas.to_datetime(df['tpep_pickup_datetime'], format='%Y-%m-%d %H:%M:%S').dt.day\n",
        "    df['hour'] = pandas.to_datetime(df['tpep_pickup_datetime'], format='%Y-%m-%d %H:%M:%S').dt.hour\n",
        "    res = df.groupby(['day', 'hour']).agg({'VendorID': 'count'})\n",
        "    print(res[\"VendorID\"].min(),res[\"VendorID\"].mean(),res[\"VendorID\"].max())\n",
        "\n",
        "\n",
        "# SQLite:\n",
        "def query_02_sqlite():\n",
        "    print('\\nSQLite:')\n",
        "    sqlite_cursor.execute(sql_02_sqlite)\n",
        "    result = sqlite_cursor.fetchall()\n",
        "    print(result)\n",
        "\n",
        "\n",
        "# DuckDB:\n",
        "def query_02_duckdb():\n",
        "    print('\\nDuckDB:')\n",
        "    duck_cursor.execute(sql_02_duckdb)\n",
        "    result = duck_cursor.fetchall()\n",
        "    print(result)\n",
        "\n",
        "\n",
        "print('Results:')\n",
        "\n",
        "start = time.time()\n",
        "query_02_pandas()\n",
        "time_pandas = time.time() - start\n",
        "\n",
        "start = time.time()\n",
        "query_02_sqlite()\n",
        "time_sqlite = time.time() - start\n",
        "\n",
        "start = time.time()\n",
        "query_02_duckdb()\n",
        "time_duckdb = time.time() - start\n",
        "\n",
        "print('\\nTimes:')\n",
        "print('Pandas: ' + str(time_pandas))\n",
        "print('SQLite: ' + str(time_sqlite))\n",
        "print('DuckDB: ' + str(time_duckdb))"
      ],
      "execution_count": 6,
      "outputs": [
        {
          "output_type": "stream",
          "name": "stdout",
          "text": [
            "Results:\n",
            "\n",
            "Pandas:\n"
          ]
        },
        {
          "output_type": "stream",
          "name": "stderr",
          "text": [
            "<ipython-input-6-1e9567d11443>:45: SettingWithCopyWarning: \n",
            "A value is trying to be set on a copy of a slice from a DataFrame.\n",
            "Try using .loc[row_indexer,col_indexer] = value instead\n",
            "\n",
            "See the caveats in the documentation: https://pandas.pydata.org/pandas-docs/stable/user_guide/indexing.html#returning-a-view-versus-a-copy\n",
            "  df['day'] = pandas.to_datetime(df['tpep_pickup_datetime'], format='%Y-%m-%d %H:%M:%S').dt.day\n",
            "<ipython-input-6-1e9567d11443>:46: SettingWithCopyWarning: \n",
            "A value is trying to be set on a copy of a slice from a DataFrame.\n",
            "Try using .loc[row_indexer,col_indexer] = value instead\n",
            "\n",
            "See the caveats in the documentation: https://pandas.pydata.org/pandas-docs/stable/user_guide/indexing.html#returning-a-view-versus-a-copy\n",
            "  df['hour'] = pandas.to_datetime(df['tpep_pickup_datetime'], format='%Y-%m-%d %H:%M:%S').dt.hour\n"
          ]
        },
        {
          "output_type": "stream",
          "name": "stdout",
          "text": [
            "8 14657.34811827957 28511\n",
            "\n",
            "SQLite:\n",
            "[(8, 14657.34811827957, 28511)]\n",
            "\n",
            "DuckDB:\n",
            "[(8, 14657.34811827957, 28511)]\n",
            "\n",
            "Times:\n",
            "Pandas: 1.3487584590911865\n",
            "SQLite: 21.118820667266846\n",
            "DuckDB: 0.46707582473754883\n"
          ]
        }
      ]
    },
    {
      "cell_type": "markdown",
      "metadata": {
        "id": "CqqmSeKvIN2L"
      },
      "source": [
        "# **Machine Learning : Fare Estimation** [40 pts]"
      ]
    },
    {
      "cell_type": "markdown",
      "metadata": {
        "id": "9-AA_rgyIYpI"
      },
      "source": [
        "Here you will need to use the data to do the most basic form of machine learning: [linear regression](https://en.wikipedia.org/wiki/Ordinary_least_squares#Simple_linear_regression_model). You can train a simple estimator that takes the trip distance and estimates the price. For this exercise we provide the linear regression using pandas. Your goal is to mimic the pandas computation in both SQLite and DuckDB, and compare the computation time until the calculation of linear regression's parameters alpha and beta **(Which must be the same in all three systems, i.e., alpha and beta calculated by SQLite and DuckDB must be the same as those calculated by Pandas; take this into consideration to check if your answer is correct)**."
      ]
    },
    {
      "cell_type": "code",
      "metadata": {
        "id": "AR6hF_QgI3Y4",
        "colab": {
          "base_uri": "https://localhost:8080/",
          "height": 468
        },
        "outputId": "afa5a1c5-29c8-4263-bd95-39902743de25"
      },
      "source": [
        "cov_xy = (yellow_tripdata_pandas[\"trip_distance\"] * yellow_tripdata_pandas[\"fare_amount\"]).sum() - (\n",
        "    yellow_tripdata_pandas[\"trip_distance\"].sum() * yellow_tripdata_pandas[\"fare_amount\"].sum()\n",
        ") / len(yellow_tripdata_pandas)\n",
        "var_xy = (yellow_tripdata_pandas[\"trip_distance\"] ** 2).sum() - yellow_tripdata_pandas[\"trip_distance\"].sum() ** 2 / len(yellow_tripdata_pandas)\n",
        "beta = cov_xy / var_xy\n",
        "alpha = yellow_tripdata_pandas[\"fare_amount\"].mean() - beta * yellow_tripdata_pandas[\"trip_distance\"].mean()\n",
        "\n",
        "alpha\n",
        "# 12.486907739140417\n",
        "beta\n",
        "# 4.6752084884145456e-06\n",
        "\n",
        "# Select some sample data and see how well we can fit the price\n",
        "sample = yellow_tripdata_pandas.sample(10000)\n",
        "sample[\"price\"] = alpha + beta * sample[\"trip_distance\"]\n",
        "ax = sample.plot.scatter(x=\"trip_distance\", y=\"fare_amount\")\n",
        "sample.plot.line(x=\"trip_distance\", y=\"price\", ax=ax, color=\"red\")"
      ],
      "execution_count": 7,
      "outputs": [
        {
          "output_type": "execute_result",
          "data": {
            "text/plain": [
              "<Axes: xlabel='trip_distance', ylabel='fare_amount'>"
            ]
          },
          "metadata": {},
          "execution_count": 7
        },
        {
          "output_type": "display_data",
          "data": {
            "text/plain": [
              "<Figure size 640x480 with 1 Axes>"
            ],
            "image/png": "[encoded data removed]"
          },
          "metadata": {}
        }
      ]
    },
    {
      "cell_type": "markdown",
      "metadata": {
        "id": "MSNgeIoyJeBN"
      },
      "source": [
        "As you can tell from the above image, as with any real life dataset, the New York City trip dataset also contains outliers that we need to clean to get a good regression. Hence we need to get rid of the noisy data that disturbs our basic regression example.\n",
        "\n",
        "**Note**: The pandas program above is merely to show the dirty data/outliers, consider the following one for the rest of this section."
      ]
    },
    {
      "cell_type": "code",
      "metadata": {
        "id": "6SFDISlWJ01R",
        "colab": {
          "base_uri": "https://localhost:8080/",
          "height": 523
        },
        "outputId": "a938e80c-c28a-42a7-9622-50a36304f70e"
      },
      "source": [
        "start = time.time()\n",
        "cap_fare = yellow_tripdata_pandas[\"fare_amount\"].mean() + 3 * yellow_tripdata_pandas[\"fare_amount\"].std()\n",
        "cap_distance = yellow_tripdata_pandas[\"trip_distance\"].mean() + 3 * yellow_tripdata_pandas[\"trip_distance\"].std()\n",
        "df_filtered = yellow_tripdata_pandas.query(\n",
        "    f\"trip_distance > 0 and trip_distance < {cap_distance} and fare_amount > 0 and fare_amount < {cap_fare}\"\n",
        ")\n",
        "\n",
        "# Train on the filtered data\n",
        "cov_xy = (df_filtered[\"trip_distance\"] * df_filtered[\"fare_amount\"]).sum() - (\n",
        "    df_filtered[\"trip_distance\"].sum() * df_filtered[\"fare_amount\"].sum()\n",
        ") / len(df_filtered)\n",
        "var_xy = (df_filtered[\"trip_distance\"] ** 2).sum() - df_filtered[\n",
        "    \"trip_distance\"\n",
        "].sum() ** 2 / len(df_filtered)\n",
        "beta = cov_xy / var_xy\n",
        "alpha = df_filtered[\"fare_amount\"].mean() - beta * df_filtered[\"trip_distance\"].mean()\n",
        "\n",
        "alpha\n",
        "# 4.651606864471554\n",
        "beta\n",
        "# 2.661444816924383\n",
        "end = time.time()\n",
        "print(\"Alpha: \" + str(alpha))\n",
        "print(\"Beta: \" + str(beta))\n",
        "print(\"ML Regression in Pandas: \" +str(end - start))\n",
        "# Plot and check whether it fits better this time\n",
        "sample[\"price\"] = alpha + beta * sample[\"trip_distance\"]\n",
        "ax = sample.plot.scatter(x=\"trip_distance\", y=\"fare_amount\")\n",
        "sample.plot.line(x=\"trip_distance\", y=\"price\", ax=ax, color=\"red\")"
      ],
      "execution_count": 8,
      "outputs": [
        {
          "output_type": "stream",
          "name": "stdout",
          "text": [
            "Alpha: 4.651616991535136\n",
            "Beta: 2.661441728292328\n",
            "ML Regression in Pandas: 2.847428321838379\n"
          ]
        },
        {
          "output_type": "execute_result",
          "data": {
            "text/plain": [
              "<Axes: xlabel='trip_distance', ylabel='fare_amount'>"
            ]
          },
          "metadata": {},
          "execution_count": 8
        },
        {
          "output_type": "display_data",
          "data": {
            "text/plain": [
              "<Figure size 640x480 with 1 Axes>"
            ],
            "image/png": "[encoded data removed]"
          },
          "metadata": {}
        }
      ]
    },
    {
      "cell_type": "markdown",
      "metadata": {
        "id": "g0ZKXzBaKS7v"
      },
      "source": [
        "Now, your task is to perform the same linear regression using both duckdb and sqlite."
      ]
    },
    {
      "cell_type": "markdown",
      "metadata": {
        "id": "IBwc6FGCySin"
      },
      "source": [
        "**SQLite**:\n",
        "Since SQLite doesn't have a function to compute the standard deviation and its a bit more complex than doing it in duckdb. We provide you with a solution that should be taken as inspiration for duckdb.\n",
        "Here you only have to implement lines 46 and 49 to generate the samples necessary to plot a sample of the data + linear regression."
      ]
    },
    {
      "cell_type": "code",
      "metadata": {
        "id": "shfAO9MpyYMO",
        "colab": {
          "base_uri": "https://localhost:8080/",
          "height": 523
        },
        "outputId": "1a4215b0-46f7-417e-eef2-80242ca1485b"
      },
      "source": [
        "import math\n",
        "start = time.time()\n",
        "sqlite_cursor.execute(\"\"\"\n",
        "    SELECT\n",
        "        count(*),\n",
        "        sub.avg_fa as avg_fare,\n",
        "        sum((fare_amount - sub.avg_fa) * (fare_amount - sub.avg_fa)) as var_fare,\n",
        "        sub.avg_td as avg_distance,\n",
        "        sum((trip_distance - sub.avg_td) * (trip_distance - sub.avg_td)) as var_distance\n",
        "    FROM\n",
        "        yellow_tripdata_2016_01,\n",
        "        (\n",
        "            SELECT\n",
        "                AVG(fare_amount) as avg_fa,\n",
        "                AVG(trip_distance) as avg_td\n",
        "            FROM yellow_tripdata_2016_01\n",
        "        ) as sub\n",
        "\"\"\")\n",
        "n, avg_fare, var_fare, avg_distance, var_distance = sqlite_cursor.fetchone()\n",
        "max_fare = avg_fare + 3 * math.sqrt(var_fare / (n - 1))\n",
        "max_distance = avg_distance + 3 * math.sqrt(var_distance / (n - 1))\n",
        "max_fare, max_distance\n",
        "\n",
        "sqlite_cursor.execute(f\"\"\"\n",
        "SELECT\n",
        "    (SUM(trip_distance * fare_amount) - SUM(trip_distance) * SUM(fare_amount) / COUNT(*)) /\n",
        "    (SUM(trip_distance * trip_distance) - SUM(trip_distance) * SUM(trip_distance) / COUNT(*)) AS beta,\n",
        "    AVG(fare_amount) AS avg_fare_amount,\n",
        "    AVG(trip_distance) AS avg_trip_distance\n",
        "FROM yellow_tripdata_2016_01\n",
        "WHERE\n",
        "    fare_amount > 0 AND\n",
        "    fare_amount < {max_fare} AND\n",
        "    trip_distance > 0 AND\n",
        "    trip_distance < {max_distance}\n",
        "\"\"\")\n",
        "beta, avg_fare_amount, avg_trip_distance = sqlite_cursor.fetchone()\n",
        "alpha = avg_fare_amount - beta * avg_trip_distance\n",
        "end = time.time()\n",
        "print(\"Alpha: \" + str(alpha))\n",
        "print(\"Beta: \" + str(beta))\n",
        "print(\"ML Regression in SQLite: \" +str(end - start))\n",
        "\n",
        "\n",
        "#Get a uniform random sample (size 1000) of trip_distance and fare_amount for plotting\n",
        "#TIP : Use ORDER BY RANDOM() and Limit\n",
        "# Replace '...' below with your SQLite SQL query !\n",
        "sqlite_sample = \"\"\"\n",
        "SELECT trip_distance, fare_amount\n",
        "FROM yellow_tripdata_2016_01\n",
        "WHERE fare_amount > 0 AND trip_distance > 0\n",
        "ORDER BY RANDOM()\n",
        "LIMIT 1000;\n",
        "\"\"\"\n",
        "# Replace '...' above with your SQLite SQL query !\n",
        "\n",
        "#Get a pandas dataframe from sqlite\n",
        "#TIP : pandas has a function to transform sqlite query results to a dataframe\n",
        "# Replace '...' below with your Pandas expression !\n",
        "sqlite_df_sample = pandas.read_sql_query(sqlite_sample, db_sqlite)\n",
        "# Replace '...' above with your Pandas expression !\n",
        "\n",
        "sqlite_df_sample[\"price\"] = alpha + beta * sqlite_df_sample[\"trip_distance\"]\n",
        "ax = sqlite_df_sample.plot.scatter(x=\"trip_distance\", y=\"fare_amount\")\n",
        "sqlite_df_sample.plot.line(x=\"trip_distance\", y=\"price\", ax=ax, color=\"red\")"
      ],
      "execution_count": 10,
      "outputs": [
        {
          "output_type": "stream",
          "name": "stdout",
          "text": [
            "Alpha: 4.65161699157053\n",
            "Beta: 2.661441728279978\n",
            "ML Regression in SQLite: 15.508988380432129\n"
          ]
        },
        {
          "output_type": "execute_result",
          "data": {
            "text/plain": [
              "<Axes: xlabel='trip_distance', ylabel='fare_amount'>"
            ]
          },
          "metadata": {},
          "execution_count": 10
        },
        {
          "output_type": "display_data",
          "data": {
            "text/plain": [
              "<Figure size 640x480 with 1 Axes>"
            ],
            "image/png": "[encoded data removed]"
          },
          "metadata": {}
        }
      ]
    },
    {
      "cell_type": "markdown",
      "metadata": {
        "id": "vmYLsxUIyQEN"
      },
      "source": [
        "**DUCKDB**\n",
        "\n",
        "*TIP: DuckDB has a STDDEV_SAMP function (i.e., function that calculates standard deviation) and thus you can do the whole regression using one query.*\n",
        "\n",
        "**Remember that alpha and beta calculated by your DuckDB solution MUST have the same values as the ones calculated by the Pandas solution above!**"
      ]
    },
    {
      "cell_type": "code",
      "metadata": {
        "id": "cSvOOki7Lf9W",
        "colab": {
          "base_uri": "https://localhost:8080/",
          "height": 523
        },
        "outputId": "4f273846-5f11-424e-f101-741f4275f59e"
      },
      "source": [
        "#Implement the regression query\n",
        "# Replace '...' below with your DuckDB SQL query !\n",
        "duck_regression = \"\"\"\n",
        "SELECT\n",
        "    (SUM(trip_distance * fare_amount) - SUM(trip_distance) * SUM(fare_amount) / COUNT(*)) /\n",
        "    (SUM(trip_distance * trip_distance) - SUM(trip_distance) * SUM(trip_distance) / COUNT(*)) AS beta,\n",
        "    AVG(fare_amount) AS avg_fare_amount,\n",
        "    AVG(trip_distance) AS avg_trip_distance\n",
        "FROM yellow_tripdata_2016_01\n",
        "WHERE\n",
        "    fare_amount > 0 AND\n",
        "    fare_amount < (SELECT AVG(fare_amount) + 3 * STDDEV(fare_amount) FROM yellow_tripdata_2016_01)\n",
        "    AND trip_distance > 0\n",
        "    AND trip_distance < (SELECT AVG(trip_distance) + 3 * STDDEV(trip_distance) FROM yellow_tripdata_2016_01)\n",
        "\"\"\"\n",
        "# Replace '...' above with your DuckDB SQL query !\n",
        "\n",
        "start = time.time()\n",
        "duck_cursor.execute(duck_regression)\n",
        "#Get the values from beta and alpha from the query (replace ... for code):\n",
        "# Replace '...' below with your DuckDB Python expression !\n",
        "beta, avg_fare_amount, avg_trip_distance = duck_cursor.fetchone()\n",
        "# Replace '...' above with your DuckDB Python expression !\n",
        "alpha = avg_fare_amount - beta * avg_trip_distance\n",
        "end = time.time()\n",
        "print(\"Alpha: \" + str(alpha))\n",
        "print(\"Beta: \" + str(beta))\n",
        "print(\"ML Regression in DuckDB: \" +str(end - start))\n",
        "#Get a uniform random sample (size 1000) of trip_distance and fare_amount for plotting\n",
        "#TIP : Use ORDER BY RANDOM() and Limit\n",
        "# Replace '...' below with your DuckDB SQL query !\n",
        "duck_sample = \"\"\"\n",
        "SELECT trip_distance, fare_amount\n",
        "FROM yellow_tripdata_2016_01\n",
        "WHERE fare_amount > 0 AND trip_distance > 0\n",
        "ORDER BY RANDOM()\n",
        "LIMIT 1000;\n",
        "\"\"\"\n",
        "# Replace '...' above with your DuckDB SQL query !\n",
        "\n",
        "#Get a pandas dataframe from duckdb\n",
        "#TIP : duckdb python's client has a function to transform query results to a dataframe\n",
        "# Replace '...' below with your DuckDB Python expression !\n",
        "duck_df_sample = duck_cursor.execute(duck_sample).fetchdf()\n",
        "# Replace '...' above with your DuckDB Python expression !\n",
        "\n",
        "duck_df_sample[\"price\"] = alpha + beta * duck_df_sample[\"trip_distance\"]\n",
        "ax = duck_df_sample.plot.scatter(x=\"trip_distance\", y=\"fare_amount\")\n",
        "duck_df_sample.plot.line(x=\"trip_distance\", y=\"price\", ax=ax, color=\"red\")"
      ],
      "execution_count": 15,
      "outputs": [
        {
          "output_type": "stream",
          "name": "stdout",
          "text": [
            "Alpha: 4.651616991461091\n",
            "Beta: 2.6614417283180094\n",
            "ML Regression in DuckDB: 0.848684549331665\n"
          ]
        },
        {
          "output_type": "execute_result",
          "data": {
            "text/plain": [
              "<Axes: xlabel='trip_distance', ylabel='fare_amount'>"
            ]
          },
          "metadata": {},
          "execution_count": 15
        },
        {
          "output_type": "display_data",
          "data": {
            "text/plain": [
              "<Figure size 640x480 with 1 Axes>"
            ],
            "image/png": "[encoded data removed]"
          },
          "metadata": {}
        }
      ]
    }
  ]
}